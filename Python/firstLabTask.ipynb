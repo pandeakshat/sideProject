{
 "cells": [
  {
   "cell_type": "markdown",
   "metadata": {},
   "source": [
    "<H1>OPEN ENDED LAB QUESTION: QUESTION 1<H1>"
   ]
  },
  {
   "cell_type": "markdown",
   "metadata": {},
   "source": [
    "Given Problem: You have 3 jugs, measuring 12 gallons, 8 gallons, and 3 gallon, and a water faucet. You can fill the jugs up or empty them out from one to another or onto the ground. you need to measure out exactly one gallon. give the initial state, goal test, successor function and cost function. Implement the problem in any programming language"
   ]
  },
  {
   "cell_type": "markdown",
   "metadata": {},
   "source": [
    "<b> Create a list having 3 values, the max that contains/can contain max amount of water, the second index would have the medium value, between max and min, and the third one will be having the minimum value. </b>\n",
    "\n",
    "<b> Assuming filled initial index of list, we start pouring into others to find out the required goal amount </b>\n"
   ]
  },
  {
   "cell_type": "code",
   "execution_count": null,
   "metadata": {},
   "outputs": [],
   "source": [
    "def get_capacities():\n",
    "    print(\"Receiving the volume of the jugs...\")\n",
    "    #TODO: Create an empty list\n",
    "    capacity = []\n",
    "    temp = int(input(\"Enter max jug volume (>1): \"))\n",
    "    while temp < 1:\n",
    "        temp = int(input(\"Enter a valid amount (>1): \"))       \n",
    "    #TODO: Append the input quantity of jug into jugs list\n",
    "    capacity.append(temp)\n",
    "    \n",
    "    temp = int(input(\"Enter second jug volume (>1): \"))\n",
    "    while temp < 1:\n",
    "        temp = int(input(\"Enter a valid amount (>1): \"))     \n",
    "    \n",
    "    #TODO: Append the input quantity of jug into jugs list\n",
    "    capacity.append(temp)\n",
    "    \n",
    "    temp = int(input(\"Enter minimum jug volume (>1): \"))\n",
    "    while temp < 1:\n",
    "        temp = int(input(\"Enter a valid amount (>1): \"))     \n",
    "    #TODO: Append the input quantity of jug into jugs list\n",
    "    capacity.append(temp)\n",
    "    \n",
    "    #TODO: Return the list\n",
    "    return capacity"
   ]
  },
  {
   "cell_type": "code",
   "execution_count": null,
   "metadata": {},
   "outputs": [],
   "source": [
    "\n",
    "def get_goal(capacity):\n",
    "    \n",
    "    print(\"Receiving the desired amount of the water...\")\n",
    "    max_amount = max(jugs[0],jugs[1])\n",
    "    s = \"Enter the desired amount of water (1 - {0}): \".format(max_amount)\n",
    "    ans = int(input(s))\n",
    "    #TODO: Accept the input again from the user if the bound of goal_amount is outside the limit between [1,max_amount]\n",
    "    while ans< 1 or ans>max_amount:\n",
    "        ans = int(input(\"Enter a valid amount (1 - {0}): \".format(max_amount)))\n",
    "    \n",
    "    #TODO:Return the goal amount of water\n",
    "    return ans"
   ]
  },
  {
   "cell_type": "code",
   "execution_count": null,
   "metadata": {},
   "outputs": [],
   "source": [
    "#This method checks whether the given path matches the goal node.\n",
    "#The path parameter is a list of nodes representing the path to be checked\n",
    "#The goal_amount parameter is an integer representing the desired amount of water\n",
    "def is_goal(path, ans):\n",
    "    \n",
    "    print(\"Checking if the goal is achieved...\")\n",
    "    \n",
    "    #TODO: Return the status of the latest path matches with the goal_amount of another jug\n",
    "    return path[-1][0] == ans or path[-1][1] == ans"
   ]
  },
  {
   "cell_type": "code",
   "execution_count": null,
   "metadata": {},
   "outputs": [],
   "source": []
  },
  {
   "cell_type": "code",
   "execution_count": null,
   "metadata": {},
   "outputs": [],
   "source": []
  },
  {
   "cell_type": "code",
   "execution_count": null,
   "metadata": {},
   "outputs": [],
   "source": []
  },
  {
   "cell_type": "code",
   "execution_count": null,
   "metadata": {},
   "outputs": [],
   "source": []
  },
  {
   "cell_type": "code",
   "execution_count": null,
   "metadata": {},
   "outputs": [],
   "source": [
    "def get_answer(capacity, ans):\n",
    "    \n",
    "    \n",
    "    #TODO: create an empty list\n",
    "    result = []\n",
    "    next_nodes = []\n",
    "    node = []\n",
    "    \n",
    "    x = jugs[0]\n",
    "    y = jugs[1]\n",
    "    z = jugs[2]\n",
    "    \n",
    "# to mark visited states\n",
    "memory = {}\n",
    "\n",
    "# store solution path\n",
    "ans = []\n",
    "\n",
    "def get_all_states(state):\n",
    "  # Let the 3 jugs be called a,b,c\n",
    "  a = state[0]\n",
    "  b = state[1]\n",
    "  c = state[2]\n",
    "\n",
    "  if(a==6 and b==6):\n",
    "      ans.append(state)\n",
    "      return True\n",
    "\n",
    "  # if current state is already visited earlier\n",
    "  if((a,b,c) in memory):\n",
    "      return False\n",
    "\n",
    "  memory[(a,b,c)] = 1\n",
    "\n",
    "  #empty jug a\n",
    "  if(a>0):\n",
    "      #empty a into b\n",
    "      if(a+b<=y):\n",
    "          if( get_all_states((0,a+b,c)) ):\n",
    "              ans.append(state)\n",
    "              return True\n",
    "      else:\n",
    "          if( get_all_states((a-(y-b), y, c)) ):\n",
    "              ans.append(state)\n",
    "              return True\n",
    "      #empty a into c\n",
    "      if(a+c<=z):\n",
    "          if( get_all_states((0,b,a+c)) ):\n",
    "              ans.append(state)\n",
    "              return True\n",
    "      else:\n",
    "          if( get_all_states((a-(z-c), b, z)) ):\n",
    "              ans.append(state)\n",
    "              return True\n",
    "\n",
    "  #empty jug b\n",
    "  if(b>0):\n",
    "      #empty b into a\n",
    "      if(a+b<=x):\n",
    "          if( get_all_states((a+b, 0, c)) ):\n",
    "              ans.append(state)\n",
    "              return True\n",
    "      else:\n",
    "          if( get_all_states((x, b-(x-a), c)) ):\n",
    "              ans.append(state)\n",
    "              return True\n",
    "      #empty b into c\n",
    "      if(b+c<=z):\n",
    "          if( get_all_states((a, 0, b+c)) ):\n",
    "              ans.append(state)\n",
    "              return True\n",
    "      else:\n",
    "          if( get_all_states((a, b-(z-c), z)) ):\n",
    "              ans.append(state)\n",
    "              return True\n",
    "\n",
    "  #empty jug c\n",
    "  if(c>0):\n",
    "      #empty c into a\n",
    "      if(a+c<=x):\n",
    "          if( get_all_states((a+c, b, 0)) ):\n",
    "              ans.append(state)\n",
    "              return True\n",
    "      else:\n",
    "          if( get_all_states((x, b, c-(x-a))) ):\n",
    "              ans.append(state)\n",
    "              return True\n",
    "      #empty c into b\n",
    "      if(b+c<=y):\n",
    "          if( get_all_states((a, b+c, 0)) ):\n",
    "              ans.append(state)\n",
    "              return True\n",
    "      else:\n",
    "          if( get_all_states((a, y, c-(y-b))) ):\n",
    "              ans.append(state)\n",
    "              return True\n",
    "\n",
    "  return False\n",
    "\n",
    "initial_state = (12,0,0)\n",
    "print(\"Starting work...\\n\")\n",
    "get_all_states(initial_state)\n",
    "ans.reverse()\n",
    "for i in ans:\n",
    "  print(i)\n",
    "    "
   ]
  },
  {
   "cell_type": "code",
   "execution_count": null,
   "metadata": {},
   "outputs": [],
   "source": [
    "if __name__ == '__main__':\n",
    "    starting_node = [[0, 0]]\n",
    "    #TODO: Call the get_jugs() method\n",
    "    capacity = get_capacities()\n",
    "    #TODO: Call the get_goal() method\n",
    "    ans = get_goal(jugs)\n",
    "    result=get_answer(capacity,ans)"
   ]
  },
  {
   "cell_type": "code",
   "execution_count": null,
   "metadata": {},
   "outputs": [],
   "source": []
  },
  {
   "cell_type": "code",
   "execution_count": null,
   "metadata": {},
   "outputs": [],
   "source": []
  },
  {
   "cell_type": "code",
   "execution_count": null,
   "metadata": {},
   "outputs": [],
   "source": []
  },
  {
   "cell_type": "code",
   "execution_count": null,
   "metadata": {},
   "outputs": [],
   "source": []
  },
  {
   "cell_type": "markdown",
   "metadata": {},
   "source": [
    "**BONUS:**\n",
    "\n",
    "Include more operations as discussed in class and state your analysis depending on the upcoming "
   ]
  },
  {
   "cell_type": "code",
   "execution_count": null,
   "metadata": {},
   "outputs": [],
   "source": [
    "\n",
    "\n"
   ]
  },
  {
   "cell_type": "code",
   "execution_count": null,
   "metadata": {},
   "outputs": [],
   "source": []
  },
  {
   "cell_type": "code",
   "execution_count": null,
   "metadata": {},
   "outputs": [],
   "source": []
  },
  {
   "cell_type": "code",
   "execution_count": null,
   "metadata": {},
   "outputs": [],
   "source": []
  },
  {
   "cell_type": "code",
   "execution_count": null,
   "metadata": {},
   "outputs": [],
   "source": []
  }
 ],
 "metadata": {
  "kernelspec": {
   "display_name": "Python 3",
   "language": "python",
   "name": "python3"
  },
  "language_info": {
   "codemirror_mode": {
    "name": "ipython",
    "version": 3
   },
   "file_extension": ".py",
   "mimetype": "text/x-python",
   "name": "python",
   "nbconvert_exporter": "python",
   "pygments_lexer": "ipython3",
   "version": "3.7.6"
  }
 },
 "nbformat": 4,
 "nbformat_minor": 2
}
