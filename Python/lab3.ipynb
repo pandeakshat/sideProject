{
 "cells": [
  {
   "cell_type": "markdown",
   "metadata": {
    "colab_type": "text",
    "id": "h-47G4nF1lBG"
   },
   "source": [
    "<h1>8 Puzzle Single Player Game (A* Algorithm)</h1>"
   ]
  },
  {
   "cell_type": "markdown",
   "metadata": {
    "colab_type": "text",
    "id": "BXCcK4Il4p78"
   },
   "source": [
    "<h2>Introduction</h2>\n",
    "An instance of the n-puzzle game consists of a board holding $n^{2}-1$ distinct movable tiles, plus an empty space. The tiles are numbers from the set $1,..,n^{2}-1$. For any such board, the empty space may be legally swapped with any tile horizontally or vertically adjacent to it. In this assignment, the blank space is going to be represented with the number 0. Given an initial state of the board, the combinatorial search problem is to find a sequence of moves that transitions this state to the goal state; that is, the configuration with all tiles arranged in ascending order  $0,1,..,n^{2}-1$ . \n",
    "\n",
    "The search space is the set of all possible states reachable from the initial state. The blank space may be swapped with a component in one of the four directions {‘Up’, ‘Down’, ‘Left’, ‘Right’}, one move at a time. \n",
    "\n"
   ]
  },
  {
   "cell_type": "markdown",
   "metadata": {
    "colab_type": "text",
    "id": "wx3viZ8g1orV"
   },
   "source": [
    "In this 8 puzzle problem is discussed. \n",
    "\n",
    "Given a 3×3 board with 8 tiles (every tile has one number from 1 to 8) and one empty space. The objective is to place the numbers on tiles to match final configuration using the empty space. We can slide four adjacent (left, right, above and below) tiles into the empty space. \n",
    "For example:\n",
    "\n",
    "![alt text](https://media.geeksforgeeks.org/wp-content/uploads/puzzle8init.jpg)"
   ]
  },
  {
   "cell_type": "markdown",
   "metadata": {
    "colab_type": "text",
    "id": "NlVyyuFI2IyW"
   },
   "source": [
    "**A* Algorithm:** It is a searching algorithm that searches for the shortest path between the initial and the final state. It is used in various applications, such as maps. In maps the A* algorithm is used to calculate the shortest distance between the source (initial state) and the destination (final state)."
   ]
  },
  {
   "cell_type": "markdown",
   "metadata": {
    "colab_type": "text",
    "id": "HTDnbYRR6FrN"
   },
   "source": [
    "<h2>Explanation</h2>\n",
    "A* algorithm has 3 parameters:\n",
    "\n",
    "1.   g : the cost of moving from the initial cell to the current cell.\n",
    "2.   h : also known as the heuristic value, it is the estimated cost of moving from the current cell to the final cell. The actual cost cannot be calculated until the final cell is reached. Hence, h is the estimated cost. We must make sure that there is never an over estimation of the cost.\n",
    "3.   f : it is the sum of g and h. So, f = g + h\n"
   ]
  },
  {
   "cell_type": "markdown",
   "metadata": {
    "colab_type": "text",
    "id": "oZMhaLwA6qQU"
   },
   "source": [
    "<h3>Example: A*</h3>\n",
    "<h5>Initial State: 1,2,5,3,4,0,6,7,8</h5>\n",
    "\n",
    "\n",
    "<img src=\"https://sandipanweb.files.wordpress.com/2017/03/sol_b0.gif?w=676\" width=\"250\" align=\"center\">\n"
   ]
  },
  {
   "cell_type": "markdown",
   "metadata": {
    "colab_type": "text",
    "id": "V5C3rav587_a"
   },
   "source": [
    "The path to the goal node with A* (also the nodes expanded by A*) is shown in the following figure:\n",
    "\n",
    "<img src=\"https://sandipanweb.files.wordpress.com/2017/03/b_a0-gv.png\" width=\"350\" align=\"center\">"
   ]
  },
  {
   "cell_type": "markdown",
   "metadata": {},
   "source": [
    "**Dear Students, in the code below there are few *TODO* task that you have to complete in this lab session.**"
   ]
  },
  {
   "cell_type": "code",
   "execution_count": 2,
   "metadata": {
    "colab": {},
    "colab_type": "code",
    "id": "rcBUwpzpAcr-"
   },
   "outputs": [],
   "source": [
    "from time import time\n",
    "from queue import PriorityQueue\n",
    "import math"
   ]
  },
  {
   "cell_type": "code",
   "execution_count": 3,
   "metadata": {
    "colab": {},
    "colab_type": "code",
    "id": "bBHJzbPW6pH-"
   },
   "outputs": [],
   "source": [
    "#Creating a class Puzzle\n",
    "class Puzzle:\n",
    "    #Setting the goal state of 8-puzzle\n",
    "    goal_state=[1,2,3,8,0,4,7,6,5]\n",
    "    #Setting up the members of a class\n",
    "    heuristic=None\n",
    "    evaluation_function=None\n",
    "    needs_hueristic=True\n",
    "    num_of_instances=0\n",
    "    #constructor to initialize the class members\n",
    "    def __init__(self,state,parent,action,path_cost,needs_hueristic=False):\n",
    "        self.parent=parent\n",
    "        self.state=state\n",
    "        self.action=action\n",
    "         #TODO: calculate the path_cost as the sum of its parent cost and path_cost\n",
    "        if parent:\n",
    "            self.path_cost = parent.path_cost+path_cost\n",
    "        else:\n",
    "            self.path_cost = path_cost\n",
    "        if needs_hueristic:\n",
    "            self.needs_hueristic=True\n",
    "            self.generate_heuristic()\n",
    "             #TODO: calculate the expression as f = g + h\n",
    "            self.evaluation_function=self.path_cost+self.heuristic\n",
    "        #TODO: incrementing the number of instance by 1\n",
    "        Puzzle.num_of_instances+=1\n",
    "    \n",
    "    #method used to display a state of 8-puzzle\n",
    "    def __str__(self):\n",
    "        return str(self.state[0:3])+'\\n'+str(self.state[3:6])+'\\n'+str(self.state[6:9])\n",
    "\n",
    "    #method used to generate a heuristic value\n",
    "    def generate_heuristic(self):\n",
    "        self.heuristic=0\n",
    "        for num in range(1,9):\n",
    "            #TODO: calculate the heuristic value as manhattan distance which is the absolute \n",
    "            \n",
    "            #difference between current state and goal state. \n",
    "            #Use index() method to get the index of num in state\n",
    "            distance=abs(self.state.index(num) -self.goal_state.index(num))\n",
    "            i=int(distance/3)\n",
    "            j=int(distance%3)\n",
    "            self.heuristic=self.heuristic+i+j\n",
    "\n",
    "    def goal_test(self):\n",
    "        #TODO: include a condition to compare the current state with the goal state\n",
    "        if self.state == self.goal_state:\n",
    "            return True\n",
    "        return False\n",
    "\n",
    "    @staticmethod\n",
    "    def find_legal_actions(i,j):\n",
    "        #find the legal actions as Up, Down, Left, Right based on each cell of state\n",
    "        legal_action = ['U', 'D', 'L', 'R']\n",
    "        if i == 0:  # up is disable\n",
    "            # if row is 0 in board then up is disable\n",
    "            legal_action.remove('U')\n",
    "        elif i == 2:  \n",
    "             legal_action.remove('D')\n",
    "        if j == 0:\n",
    "             legal_action.remove('L')\n",
    "        elif j == 2:\n",
    "             legal_action.remove('R')\n",
    "         #TODO: return legal_action\n",
    "        return legal_action\n",
    "\n",
    "    #method to generate the child of the current state of the board\n",
    "    def generate_child(self):\n",
    "         #TODO: create an empty list\n",
    "        children=[]\n",
    "        x = self.state.index(0)\n",
    "        #TODO: generate the row (i) & col (j) position based on the current index of 0 on the board \n",
    "        i = int(x/3)\n",
    "        j = int(x%3)\n",
    "        #TODO: call the method to find the legal actions based on i and j values\n",
    "        legal_actions=self.find_legal_actions(i,j);\n",
    "\n",
    "        for action in legal_actions:\n",
    "            new_state = self.state.copy()\n",
    "            #if the legal action is UP\n",
    "            if action is 'U':\n",
    "                #Swapping between current index of 0 with its up element on the board\n",
    "                new_state[x], new_state[x-3] = new_state[x-3], new_state[x]\n",
    "            elif action is 'D':\n",
    "                #TODO: Swapping between current index of 0 with its down element on the board\n",
    "                new_state[x], new_state[x+3] = new_state[x+3], new_state[x]\n",
    "            elif action is 'L':\n",
    "                #TODO: Swapping between the current index of 0 with its left element on the board\n",
    "                new_state[x], new_state[x-1] = new_state[x-1], new_state[x]\n",
    "            elif action is 'R':\n",
    "                #TODO: Swapping between the current index of 0 with its right element on the board\n",
    "                new_state[x], new_state[x+1] = new_state[x+1], new_state[x]\n",
    "            #TODO: Append the new_state of Puzzle object with parent, action,path_cost is 1, its needs_hueristic flag\n",
    "            children.append(Puzzle(new_state,self,action,1,self.needs_hueristic ))\n",
    "        \n",
    "        #TODO: return the children\n",
    "        return children\n",
    "    \n",
    "    #method to find the solution\n",
    "    def find_solution(self):\n",
    "        solution = []\n",
    "        solution.append(self.action)\n",
    "        path = self\n",
    "        while path.parent != None:\n",
    "            path = path.parent\n",
    "            solution.append(path.action)\n",
    "        solution = solution[:-1]\n",
    "        solution.reverse()\n",
    "        return solution"
   ]
  },
  {
   "cell_type": "code",
   "execution_count": 4,
   "metadata": {
    "colab": {},
    "colab_type": "code",
    "id": "WMcheK0f93H6"
   },
   "outputs": [],
   "source": [
    "#method for A-star search\n",
    "#TODO: pass the initial_state as parameter to the breadth_first_search method\n",
    "def Astar_search(initial_state):\n",
    "    count=0\n",
    "    #TODO: create an empty list of explored nodes\n",
    "    explored=[]\n",
    "    #TODO: create a instance of Puzzle as initial_state, None, None, 0, True\n",
    "    start_node=Puzzle(initial_state,None,None,0,True)\n",
    "    q = PriorityQueue()\n",
    "    #TODO: put a tuple with start_node.evaluation_function, count, start_node into PriorityQueue\n",
    "    q.put((start_node.evaluation_function, count, start_node))\n",
    "\n",
    "    while not q.empty():\n",
    "        #TODO: get the current node of a queue. Use the get() method of Queue\n",
    "        node=q.get() \n",
    "        #TODO: extract the current node of a PriorityQueue based on the index of a tuple. \n",
    "        #Refer a tuple format put in PriorityQueue  \n",
    "        node=node[2]\n",
    "        #TODO: Append the state of node in the explored list as node.state\n",
    "        explored.append(node.state)\n",
    "        if node.goal_test():\n",
    "            return node.find_solution()\n",
    "        #TODO: call the generate_child method to generate the child node of current node\n",
    "        children=node.generate_child()\n",
    "        for child in children:\n",
    "            if child.state not in explored:\n",
    "                count += 1\n",
    "                #TODO: put a tuple with child.evaluation_function, count, child into PriorityQueue\n",
    "                q.put((child.evaluation_function,count, child))\n",
    "    return"
   ]
  },
  {
   "cell_type": "code",
   "execution_count": 7,
   "metadata": {
    "colab": {},
    "colab_type": "code",
    "id": "ii-7pr4I-fDu"
   },
   "outputs": [
    {
     "name": "stdout",
     "output_type": "stream",
     "text": [
      "A*: ['U', 'R', 'U', 'L', 'D']\n",
      "space: 16\n",
      "time: 0.0002040863037109375\n",
      "\n",
      "------------------------------------------\n",
      "A*: ['U', 'U', 'L', 'D', 'R']\n",
      "space: 16\n",
      "time: 0.000278472900390625\n",
      "\n",
      "------------------------------------------\n",
      "A*: ['R', 'U', 'L', 'U', 'R', 'R', 'D', 'L', 'L', 'U', 'R', 'D']\n",
      "space: 95\n",
      "time: 0.0009543895721435547\n",
      "\n",
      "------------------------------------------\n"
     ]
    }
   ],
   "source": [
    "#Start executing the 8-puzzle with setting up the initial state\n",
    "#Here we have considered 3 initial state intitalized using state variable\n",
    "from time import time\n",
    "from queue import PriorityQueue\n",
    "import math\n",
    "state=[[1, 3, 4,\n",
    "        8, 6, 2,\n",
    "        7, 0, 5],\n",
    "\n",
    "       [2, 8, 3,\n",
    "        1, 6, 4,\n",
    "        7, 0, 5],\n",
    "\n",
    "       [2, 8, 1,\n",
    "        4, 6, 3,\n",
    "        0, 7, 5]]\n",
    "#Iterate over number of initial_state\n",
    "for i in range(0,3):\n",
    "    #TODO: Initialize the num_of_instances to zero\n",
    "    Puzzle.num_of_instances = 0\n",
    "    #Set t0 to current time\n",
    "    t0 = time()\n",
    "    astar = Astar_search(state[i])\n",
    "    #Get the time t1 after executing the breadth_first_search method\n",
    "    t1 = time() - t0\n",
    "    print('A*:',astar)\n",
    "    print('space:', Puzzle.num_of_instances)\n",
    "    print('time:', t1)\n",
    "    print()\n",
    "    print('------------------------------------------')"
   ]
  },
  {
   "cell_type": "markdown",
   "metadata": {},
   "source": [
    "**BONUS TASK:** Now, perform the following task before submitting the assignment:\n",
    "\n",
    "Show the path in traversing the A-star algorithm of each state from intial_state to goal state."
   ]
  },
  {
   "cell_type": "code",
   "execution_count": 8,
   "metadata": {},
   "outputs": [
    {
     "ename": "NameError",
     "evalue": "name 'yes' is not defined",
     "output_type": "error",
     "traceback": [
      "\u001b[0;31m---------------------------------------------------------------------------\u001b[0m",
      "\u001b[0;31mNameError\u001b[0m                                 Traceback (most recent call last)",
      "\u001b[0;32m<ipython-input-8-084d24bbed96>\u001b[0m in \u001b[0;36m<module>\u001b[0;34m\u001b[0m\n\u001b[0;32m----> 1\u001b[0;31m \u001b[0myes\u001b[0m\u001b[0;34m\u001b[0m\u001b[0;34m\u001b[0m\u001b[0m\n\u001b[0m",
      "\u001b[0;31mNameError\u001b[0m: name 'yes' is not defined"
     ]
    }
   ],
   "source": [
    "yes"
   ]
  },
  {
   "cell_type": "markdown",
   "metadata": {},
   "source": []
  },
  {
   "cell_type": "code",
   "execution_count": null,
   "metadata": {},
   "outputs": [],
   "source": []
  },
  {
   "cell_type": "code",
   "execution_count": null,
   "metadata": {},
   "outputs": [],
   "source": []
  },
  {
   "cell_type": "code",
   "execution_count": null,
   "metadata": {},
   "outputs": [],
   "source": []
  },
  {
   "cell_type": "code",
   "execution_count": null,
   "metadata": {},
   "outputs": [],
   "source": []
  },
  {
   "cell_type": "code",
   "execution_count": null,
   "metadata": {},
   "outputs": [],
   "source": []
  }
 ],
 "metadata": {
  "colab": {
   "collapsed_sections": [],
   "name": "Solution_Lab2_8 Puzzle Single Player Game (BFS).ipynb",
   "provenance": []
  },
  "kernelspec": {
   "display_name": "Python 3",
   "language": "python",
   "name": "python3"
  },
  "language_info": {
   "codemirror_mode": {
    "name": "ipython",
    "version": 3
   },
   "file_extension": ".py",
   "mimetype": "text/x-python",
   "name": "python",
   "nbconvert_exporter": "python",
   "pygments_lexer": "ipython3",
   "version": "3.7.6"
  }
 },
 "nbformat": 4,
 "nbformat_minor": 1
}
